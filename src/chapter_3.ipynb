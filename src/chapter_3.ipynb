{
 "cells": [
  {
   "cell_type": "markdown",
   "source": [
    "## 案例一：Birth Rate\r\n",
    "\r\n",
    "调查了总计155为女性（低于本科 111 vs 本科 44）各自的孩子数量。  \r\n",
    "\r\n",
    "未受本科教育：$Y_{1,1},...,Y_{n_1,1}$，$n_1=111$  \r\n",
    "受本科教育：$Y_{1,2},...,Y_{n_2,2}$，$n_2=44$  \r\n",
    "\r\n",
    "可以认为：\r\n",
    "\r\n",
    "$$\r\n",
    "Y_{1,1}, ..., Y_{n_1,1}|\\theta_1 \\sim \\rm{i.i.d. Poison}(\\theta_1)\r\n",
    "$$\r\n",
    "\r\n",
    "$$ \r\n",
    "Y_{1,2}, ..., Y_{n_2,2}|\\theta_2 \\sim \\rm{i.i.d. Poison}(\\theta_2)\r\n",
    "$$\r\n",
    "\r\n",
    "根据贝叶斯后验估计：\r\n",
    "\r\n",
    "$$\r\n",
    "\\left.\r\n",
    "\\begin{array}{}\r\n",
    "&\\theta \\sim {\\rm gamma}(a, b) & \\\\\r\n",
    "&Y_1, ..., Y_n | \\theta \\sim {\\rm Poisson}(\\theta) & \\\\\r\n",
    "\\end{array}\r\n",
    "\\right\\} \\rightarrow \\{\\theta|Y_1,...,Y_n\\} \\sim {\\rm gamma}(a + \\sum_{i=1}^n Y_i, b+n)\r\n",
    "$$  \r\n",
    "\r\n",
    "先验分布为：\r\n",
    "\r\n",
    "$$\\{\\theta_1,\\theta_2\\} \\sim {\\rm i.i.d. gamma}(a=2, b=1)$$\r\n",
    "\r\n",
    "因此，对两个参数$\\theta_1$和$\\theta_2$的后验估计为：\r\n",
    "\r\n",
    "$$\r\n",
    "\\theta_1 | \\{n_1=111, \\sum{Y_i}=217\\} \\sim {\\rm gamma}(2 + 217, 1 + 111)\r\n",
    "\\theta_2 | \\{n_2=44, \\sum{Y_i}=66\\} \\sim {\\rm gamma}(2 + 66, 1 + 44)\r\n",
    "$$"
   ],
   "metadata": {}
  },
  {
   "cell_type": "code",
   "execution_count": null,
   "source": [
    "a <- 1\r\n",
    "b <- 2"
   ],
   "outputs": [],
   "metadata": {}
  }
 ],
 "metadata": {
  "orig_nbformat": 4,
  "language_info": {
   "name": "R",
   "codemirror_mode": "r",
   "pygments_lexer": "r",
   "mimetype": "text/x-r-source",
   "file_extension": ".r",
   "version": "4.1.0"
  },
  "kernelspec": {
   "name": "ir",
   "display_name": "R",
   "language": "R"
  },
  "interpreter": {
   "hash": "07efdcd4b820c98a756949507a4d29d7862823915ec7477944641bea022f4f62"
  }
 },
 "nbformat": 4,
 "nbformat_minor": 2
}