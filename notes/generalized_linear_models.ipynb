{
 "cells": [
  {
   "cell_type": "markdown",
   "metadata": {},
   "source": [
    "## **广义线性模型**"
   ]
  },
  {
   "cell_type": "markdown",
   "metadata": {},
   "source": [
    "举个例子: 将人群按照年龄划分为$x=1$到5这5个区间: $x_1 \\sim x_5$ (**关键点1: $x$数据需要被离散化为几个区间**). \n",
    "在每个$x_i$上, 对应的后代数$y$符合Poisson分布, 即\n",
    "\n",
    "$$\n",
    "\\{y|x_i\\} \\sim {\\rm Poisson}(\\theta_i) \\tag{1}\n",
    "$$"
   ]
  },
  {
   "cell_type": "markdown",
   "metadata": {},
   "source": [
    "模型将尝试寻找分布参数$\\theta_i$与$x_i$的关系$\\theta_i = f(x_i)$, 使得在任意给定输入$x_i$的前提下确定对应的分布参数$\\theta_i$, 从而获得对$P(y|xi)$的分布估计. (**关键点2: 在每个$x_i$区间上都要有足够的$y$样本用于对$\\theta_i$的估计**).\n",
    "\n",
    "为了模型计算简便, 上式子中的$f$一般使用多项式表示, 即\n",
    "\n",
    "$$\\theta_i = \\beta_0 + \\beta_1 x_i + \\beta_2 x_i^2 + \\cdots \\tag{2}$$ \n",
    "\n",
    "(**关键点3: 需要使用正则化等手段合理确定多项式的阶数, 避免过拟合**)\n",
    "\n"
   ]
  },
  {
   "cell_type": "markdown",
   "metadata": {},
   "source": [
    "这样一来, 模型回归问题转化为对参数$\\beta_0, \\beta_1, \\beta_2, \\cdots$的求解. \n",
    "\n",
    "在每个$x_i$上$y$分布的对数期望为 (**关键点4: 取对数期望是为了避免出现负期望值, 不符合Poisson分布、二项分布的前提**):"
   ]
  },
  {
   "cell_type": "markdown",
   "metadata": {},
   "source": [
    "$$\n",
    "\\log {\\rm E}(y|x_i) = \\beta_0 + \\beta_1 x_i + \\beta_2 x_i^2 + \\cdots \\tag{3}\n",
    "$$"
   ]
  },
  {
   "cell_type": "markdown",
   "metadata": {},
   "source": [
    "因此有:\n",
    "\n",
    "$${\\rm E}(y|x_i) = \\exp(\\beta_0 + \\beta_1 x_i + \\beta_2 x_i^2 + \\cdots) \\tag{4}$$"
   ]
  },
  {
   "cell_type": "markdown",
   "metadata": {},
   "source": [
    "又根据上述假设:\n",
    "\n",
    "$$\\{y|x_i\\} \\sim {\\rm Poisson}(\\theta_i = \\beta_0 + \\beta_1 x_i + \\beta_2 x_i^2 + \\cdots) \\tag{5}$$"
   ]
  },
  {
   "cell_type": "markdown",
   "metadata": {},
   "source": [
    "因此可以根据样本$\\{\\hat{y}|x_i\\}$对Poisson分布参数$\\theta_i$进行估计, 获得在不同$x_i$上根据观测值$\\hat{y}$对$\\theta_i$的后验估计值: $\\{\\theta_i|\\hat{y}, x_i\\}$, 进而获得后验期望${\\rm E}(y|x_i)$. \n",
    "\n",
    "最后将不同的$x_i - {\\rm E}(y|x_i)$带入式(4)进行回归, 即可获得参数$\\beta_0, \\beta_1, \\beta_2, \\cdots$, 也就建立了广义线性模型."
   ]
  },
  {
   "cell_type": "markdown",
   "metadata": {},
   "source": [
    "在上述讨论中，我们假设$\\{y|x_i\\} \\sim {\\rm Poisson}(\\theta_i)$, 因此获得的广义线性模型又名Poisson回归模型. 不同的分布对应的广义线性模型如下:\n",
    "\n",
    "* $y$是连续的$\\rightarrow$多元线性回归模型\n",
    "* $\\{y|x_i\\}$符合二项分布$\\rightarrow$**逻辑回归模型**\n",
    "* $\\{y|x_i\\}$符合Poisson分布 $\\rightarrow$ Poisson回归模型\n",
    "* $\\{y|x_i\\}$符合负二项分布$\\rightarrow$负二项回归模型"
   ]
  },
  {
   "cell_type": "markdown",
   "metadata": {},
   "source": []
  }
 ],
 "metadata": {
  "language_info": {
   "name": "python"
  },
  "orig_nbformat": 4
 },
 "nbformat": 4,
 "nbformat_minor": 2
}
