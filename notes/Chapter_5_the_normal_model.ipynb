{
 "cells": [
  {
   "cell_type": "markdown",
   "id": "91a797a8",
   "metadata": {},
   "source": [
    "# 第五章：正态模型\n",
    "Dreisteine, 2021.07.30"
   ]
  },
  {
   "cell_type": "markdown",
   "id": "b97a10ef",
   "metadata": {},
   "source": [
    "---"
   ]
  },
  {
   "cell_type": "markdown",
   "id": "1b2135ca",
   "metadata": {},
   "source": [
    "## 一、正态模型\n",
    "\n",
    "连续随机变量$Y$的概率密度满足:\n",
    "\n",
    "$$\n",
    "p(y|\\theta, \\sigma^2) = \\frac{1}{\\sqrt{2\\pi\\sigma^2}}e^{-\\frac{1}{2}\\left(\\frac{y-\\theta}{2}\\right)^2},\\quad -\\infty< y< \\infty\n",
    "$$\n",
    "\n",
    "正态分布满足：\n",
    "* 对称性\n",
    "* 左右$1.96 \\approx 2$个标准差以内满足95%置信度\n",
    "* 若$X\\sim {\\rm normal}(\\mu, \\tau^2),Y\\sim \\rm{normal}(\\theta, \\sigma^2)$，且**X和Y相互独立**，则$aX+bY \\sim \\rm{normal}(a\\mu+b\\theta, a^2\\tau^2+b^2\\sigma^2)$\n",
    "* R里面的dnorm，rnorm，pnorm，qnorm这些函数都采用$\\sigma$而非$\\sigma^2$作为输入参数，注意不要混淆"
   ]
  },
  {
   "cell_type": "markdown",
   "id": "f7754beb",
   "metadata": {},
   "source": [
    "### <u>算例1：妇女体重分布</u>"
   ]
  },
  {
   "cell_type": "markdown",
   "id": "b68cd074",
   "metadata": {},
   "source": [
    "> 妇女体重($N=1375, \\bar{y}=63.75, s=2.62$)近似取决于多种因素的线性加和：\n",
    ">\n",
    "> $$\n",
    "y = a + b\\times\\rm{gene} + c\\times\\rm{diet} + d\\times\\rm{disease} + \\cdots\n",
    "$$\n",
    ">\n",
    "> **中心极限定理**告诉我们，样本$y_1,...,y_n$的经验分布将会近似于正态分布，因此正态模型能够作为合适的数据采样模型。"
   ]
  },
  {
   "cell_type": "code",
   "execution_count": 5,
   "id": "006c4bf8",
   "metadata": {},
   "outputs": [
    {
     "data": {
      "image/png": "[encoded data removed]",
      "text/plain": [
       "Plot with title \"Histogram of y\""
      ]
     },
     "metadata": {
      "image/png": {
       "height": 420,
       "width": 420
      }
     },
     "output_type": "display_data"
    }
   ],
   "source": [
    "n <- 1375\n",
    "y_avg <- 63.75; s <- 2.62\n",
    "\n",
    "y <- rnorm(n, y_avg, s)\n",
    "hist(y)"
   ]
  },
  {
   "cell_type": "markdown",
   "id": "fc545659",
   "metadata": {},
   "source": [
    "## 二、方差已知情形下对均值的推理"
   ]
  },
  {
   "cell_type": "markdown",
   "id": "38c57bac",
   "metadata": {},
   "source": [
    "假设我们的采样模型为$\\{Y_1,...,Y_n|\\theta, \\sigma^2\\}\\sim \\text{ i.i.d. } \\rm{normal}(\\theta, \\sigma^2)$，那么样本的联合分布密度为：\n",
    "\n",
    "$$\n",
    "\\begin{aligned}\n",
    "p\\left(y_1,...,y_n|\\theta, \\sigma^2\\right) &= \\prod_{i=1}^n p(y_i|\\theta, \\sigma^2) \\\\\n",
    " &= \\prod_{i=1}^n \\frac{1}{\\sqrt{2\\pi\\sigma^2}}e^{-\\frac{1}{2}\\left(\\frac{y_i -\\theta}{\\sigma}\\right)^2} \\\\\n",
    " &= (2\\pi\\sigma^2)^{-n/2}\\exp{\\left\\{-\\frac{1}{2}\\sum{\\left(\\frac{y_i-\\theta}{\\sigma}\\right)^2}\\right\\}}\n",
    "\\end{aligned}\n",
    "$$\n",
    "\n",
    "其中\n",
    "\n",
    "$$\n",
    "\\sum_{i=1}^{n}{\\left(\\frac{y_i-\\theta}{\\sigma}\\right)^2}=\\frac{1}{\\sigma^2}\\sum{y_i^2}-2\\frac{\\theta}{\\sigma^2}\\sum{y_i}+n\\frac{\\theta^2}{\\sigma^2}\n",
    "$$\n",
    "\n",
    "这说明$p\\left(y_1,...,y_n|\\theta, \\sigma^2\\right)$依赖于$y_1,...,y_n$，并且$\\left\\{\\sum{y_i^2},\\sum{y_i}\\right\\}$构成了关于$p\\left(y_1,...,y_n|\\theta, \\sigma^2\\right)$的二维**充分统计量**。更进一步地，当获得了样本的均值和方差信息$\\left\\{\\bar{y}, s\\right\\}$后，也就确定了$p\\left(y_1,...,y_n|\\theta, \\sigma^2\\right)$，因此$\\left\\{\\bar{y}, s\\right\\}$也是关于$\\left\\{\\sum{y_i^2},\\sum{y_i}\\right\\}$的一组充分统计量。\n",
    "\n",
    "正态模型是一个双参数模型，对于其中参数$\\theta,\\sigma^2$的推断可被分解为两个单参数推断问题。例如已知方差来推断均值，根据贝叶斯公式有：\n",
    "\n",
    "$$\n",
    "p(\\theta|y_1,...,y_n,\\sigma^2) \\times p(y_1,...,y_n|\\sigma^2) = p(\\theta|\\sigma^2) \\times p(y_1, ...,y_n|\\theta, \\sigma^2)\n",
    "$$\n",
    "\n",
    "那么\n",
    "\n",
    "$$\n",
    "p(\\theta|y_1,...,y_n,\\sigma^2) = \\frac{p(\\theta|\\sigma^2) \\times p(y_1, ...,y_n|\\theta, \\sigma^2)}{p(y_1,...,y_n|\\sigma^2)}\n",
    "$$\n",
    "\n",
    "其中分母$p(y_1,...,y_n|\\sigma^2)$与待估计参数$\\theta$无关，因此\n",
    "\n",
    "$$\n",
    "\\begin{aligned}\n",
    "p(\\theta|y_1,...,y_n,\\sigma^2) & \\propto p(\\theta|\\sigma^2) \\times p(y_1, ...,y_n|\\theta, \\sigma^2) \\\\\n",
    "    & = p(\\theta|\\sigma^2) \\times e^{-\\frac{1}{2\\sigma^2}\\sum{(y_i-\\theta)^2}} \\\\\n",
    "    & = p(\\theta|\\sigma^2) \\times e^{c_1(\\theta - c_2)^2}\n",
    "\\end{aligned}\n",
    "$$"
   ]
  },
  {
   "cell_type": "markdown",
   "id": "81668ea8",
   "metadata": {},
   "source": [
    "根据Chapter 3，若后验分布与采样分布属于同一类型，那么先验分布也是共轭的。从上式可以看出，如果先验分布$p(\\theta|\\sigma^2)$是共轭的，那么必然包含如$e^{c_1(\\theta - c_2)^2}$的二次项。在实数域$\\mathbb R$上最简单的此种类型分布便是正态分布。如果$p(\\theta|\\sigma^2)$为正态分布，样本$y_1,...,y_n$为从$\\rm{normal}(\\theta, \\sigma^2)$分布中独立采样的样本，那么$p(\\theta|y_1,...,y_n,\\sigma^2)$也是正态分布。具体推导如下(其中$\\tau_0$和$\\mu_0$是对$\\theta|\\sigma^2$的先验估计参数)："
   ]
  },
  {
   "cell_type": "markdown",
   "id": "f7d489e6",
   "metadata": {},
   "source": [
    "$$\n",
    "\\begin{aligned}\n",
    "p(\\theta|y_1,...,y_n,\\sigma^2) & \\propto p(\\theta|\\sigma^2) \\times p(y_1, ...,y_n|\\theta, \\sigma^2) \\\\\n",
    "    & = \\exp{\\left\\{-\\frac{1}{2\\tau_0^2}(\\theta - \\mu_0)^2\\right\\}} \\times \\exp{\\left\\{\\frac{-1}{2\\sigma^2}\\sum_i{(y_i - \\theta)^2} \\right\\}} \\\\\n",
    "    & = \\exp{\\left\\{-\\frac{1}{2}(a\\theta^2-2b\\theta) \\right\\}} \\\\\n",
    "    & = \\exp{\\left\\{-\\frac{1}{2}a(\\theta - b/2)^2 \\right\\}} \\\\\n",
    "    & = \\exp{\\left\\{-\\frac{1}{2}\\left(\\frac{\\theta - b/2}{1/\\sqrt{a}}\\right) \\right\\}} \\\\\n",
    "\\end{aligned}\n",
    "$$\n",
    "\n",
    "也是正态分布类型，其中$a=\\frac{1}{\\tau_0^2}, b=\\frac{\\mu_0}{\\tau_0^2} + \\frac{\\sum_i{y_i}}{\\sigma^2}, c = \\left[\\mu_0,\\tau_0^2,y_1,...,y_n \\right]$。由此可知，后验分布$p(\\theta|y_1,...,y_n,\\sigma^2)$满足："
   ]
  },
  {
   "cell_type": "markdown",
   "id": "364c2835",
   "metadata": {},
   "source": [
    "$$\n",
    "p(\\theta|y_1,...,y_n,\\sigma^2) \\sim {\\rm normal}\\left(\n",
    "\\mu_n, \n",
    "\\tau_n^2\n",
    "\\right)\n",
    "$$"
   ]
  },
  {
   "cell_type": "markdown",
   "id": "38565cfa",
   "metadata": {},
   "source": [
    "其中\n",
    "\n",
    "$$\n",
    "\\begin{aligned}\n",
    "\\tau_n^2 &= \\frac{1}{\\frac{1}{\\tau_0^2} + \\frac{n}{\\sigma^2}} \\\\\n",
    "\\mu_n &= \\frac{\\frac{1}{\\tau_0^2}\\mu_0+\\frac{n}{\\sigma^2}\\bar{y}}{\\frac{1}{\\tau_0^2}+\\frac{n}{\\sigma^2}} \\\\\n",
    "\\end{aligned}\n",
    "$$"
   ]
  },
  {
   "cell_type": "markdown",
   "id": "111e156e",
   "metadata": {},
   "source": [
    "从上式可以看出：\n",
    "\n",
    "$$\n",
    "\\frac{1}{\\tau_n^2}=\\frac{1}{\\tau_0^2} + \\frac{n}{\\sigma^2}\n",
    "$$\n",
    "\n",
    "### 2.1 正态模型准确率指标\n",
    "\n",
    "对于正态分布建模，令：\n",
    "* $\\tilde{\\tau}_n^2 = \\frac{1}{\\tau_n^2}$：后验准确率\n",
    "* $\\tilde{\\tau}_0^2 =\\frac{1}{\\tau_0^2}$：先验准确率\n",
    "* $\\tilde{\\sigma}^2 =\\frac{1}{\\sigma^2}$：采样准确率"
   ]
  },
  {
   "cell_type": "markdown",
   "id": "f6c393d9",
   "metadata": {},
   "source": [
    "### 2.2 正态模型分布指标\n",
    "\n",
    "后验分布均值为：\n",
    "\n",
    "$$\n",
    "\\mu_n = \\frac{\\tilde{\\tau}_0^2}{\\tilde{\\tau}_0^2 + n\\tilde{\\sigma}^2}\\mu_0 + \\frac{n\\tilde{\\sigma}^2}{\\tilde{\\tau}_0^2 + n\\tilde{\\sigma}^2}\\bar{y}\n",
    "$$"
   ]
  },
  {
   "cell_type": "markdown",
   "id": "1bd74e40",
   "metadata": {},
   "source": [
    "### 2.3 模型预测\n",
    "\n",
    "当观测到了$Y_1=y_1,...,Y_n=y_n$后，对下一个样本$\\tilde Y$进行预测。$\\tilde Y$的先验分布为：\n",
    "\n",
    "$$\n",
    "\\left\\{\\tilde Y|\\theta, \\sigma^2 \\right\\} \\sim {\\rm normal}(\\theta, \\sigma^2)\n",
    "$$\n",
    "\n",
    "令$\\tilde Y = \\theta + \\tilde \\epsilon$，则有\n",
    "\n",
    "$$\n",
    "\\left\\{\\tilde \\epsilon|\\theta, \\sigma^2 \\right\\} \\sim {\\rm normal}(0, \\sigma^2)\n",
    "$$"
   ]
  },
  {
   "cell_type": "markdown",
   "id": "aa56318f",
   "metadata": {},
   "source": [
    "后验分布计算，考虑到**$\\theta$与$\\epsilon$相互独立**：\n",
    "\n",
    "$$\n",
    "\\begin{aligned}\n",
    "{\\rm E}\\left[\\tilde Y|y_1,...,y_n, \\sigma^2 \\right] & = {\\rm E}\\left[\\theta|y_1,...,y_n, \\sigma^2 \\right] + {\\rm E}\\left[\\tilde \\epsilon|y_1,...,y_n, \\sigma^2 \\right] \\\\\n",
    "& = \\mu_n + 0\n",
    "\\end{aligned}\n",
    "$$\n",
    "\n",
    "$$\n",
    "\\begin{aligned}\n",
    "{\\rm Var}\\left[\\tilde Y|y_1,...,y_n, \\sigma^2 \\right] & = {\\rm Var}\\left[\\theta|y_1,...,y_n, \\sigma^2 \\right] + {\\rm Var}\\left[\\tilde \\epsilon|y_1,...,y_n, \\sigma^2 \\right] \\\\\n",
    "& = \\tau_n^2 + \\sigma^2\n",
    "\\end{aligned}\n",
    "$$"
   ]
  },
  {
   "cell_type": "markdown",
   "id": "027e5e7b",
   "metadata": {},
   "source": [
    "因此\n",
    "\n",
    "$$\n",
    "\\tilde Y | \\sigma^2, y_1,...,y_n \\sim {\\rm normal}(\\mu_n, \\tau_n^2 + \\sigma^2)\n",
    "$$"
   ]
  },
  {
   "cell_type": "markdown",
   "id": "1551f29e",
   "metadata": {},
   "source": [
    "### <u>算例2：Midge Wing Length</u>\n",
    "\n",
    "> 获取了九只苍蝇的翅长数据，希望对种群翅长均值$\\theta>0$进行估计。对于翅长的先验估计：$\\mu_0 = 1.9$。关于$\\theta > 0$的条件，需要我们选择先验分布时尽可能使得样本为正，考虑到正态分布中95%的样本位于均值附近2个标准差的范围，因此我们选择模型参数$\\tau_0^2$满足$\\mu_0 - 2 \\times \\tau_0 > 0$,所以有$\\tau_0 < 1.9/2=0.95$。"
   ]
  },
  {
   "cell_type": "code",
   "execution_count": 11,
   "id": "3af198a0",
   "metadata": {},
   "outputs": [
    {
     "data": {
      "image/png": "[encoded data removed]",
      "text/plain": [
       "plot without title"
      ]
     },
     "metadata": {
      "image/png": {
       "height": 420,
       "width": 420
      }
     },
     "output_type": "display_data"
    }
   ],
   "source": [
    "# 先验分布.\n",
    "mu_0 <- 1.9; tau_0 <- 0.95\n",
    "\n",
    "# 样本数据.\n",
    "y <- c(1.64, 1.70, 1.72, 1.74, 1.82, 1.82, 1.82, 1.90, 2.08)\n",
    "n <- length(y)\n",
    "\n",
    "y_avg <- mean(y)\n",
    "y_tau <- sqrt(var(y))  # 这里假设样本标准差y_tau为后验标准差\\sigma\n",
    "\n",
    "# 后验估计.\n",
    "mu_n <- (mu_0 / tau_0^2 + y_avg * n / y_tau^2) / (1 / tau_0^2 + n / y_tau^2)\n",
    "tau_n <- 1 / (1 / tau_0^2 + n / y_tau^2)\n",
    "\n",
    "x <- seq(1.6, 2.0, length.out = 1000)\n",
    "y_prior <- dnorm(x, mu_0, tau_0)\n",
    "y_post <- dnorm(x, mu_n, tau_n)\n",
    "plot(x, y_prior, type = 'l', ylim = c(0.0, 220.0), ylab=\"y\")\n",
    "lines(x, y_post, col = 'red')"
   ]
  },
  {
   "cell_type": "markdown",
   "id": "f06ae6d7",
   "metadata": {},
   "source": [
    "> 但是，上述结果是基于后验分布方差$\\sigma^2$等于样本方差$s^2$得出的，实际上由于样本数太少，这种假设难以成立，因此我们需要将$\\sigma^2$视作未知来处理。"
   ]
  },
  {
   "cell_type": "markdown",
   "id": "b064100a",
   "metadata": {},
   "source": [
    "## 三、对均值和方差的联合推理"
   ]
  },
  {
   "cell_type": "markdown",
   "id": "8ab2beab",
   "metadata": {},
   "source": [
    "考虑对后验分布的$\\mu$和$\\sigma^2$同时进行估计，则有：\n",
    "\n",
    "$$\n",
    "p\\left(\\theta, \\sigma^2|y_1,...,y_n\\right) = p\\left(y_1,...,y_n|\\theta, \\sigma^2\\right)\\cdot p(\\theta,\\sigma^2) / p(y_1,...,y_n)\n",
    "$$\n",
    "\n",
    "### 3.1 寻找先验分布的共轭\n",
    "\n",
    "$$\n",
    "p(\\theta,\\sigma^2)=p(\\theta|\\sigma^2)p(\\sigma^2) \\\\\n",
    "$$\n",
    "\n",
    "从之前分析可知，若$\\sigma^2$已知，则$\\theta$的共轭先验分布为${\\rm normal}(\\mu_0, \\tau_0^2)$，考虑$\\tau_0^2=\\sigma^2/ \\kappa_0$的特例，其中$\\sigma$为后验分布标准差，则：\n",
    "\n",
    "$$\n",
    "p(\\theta|\\sigma^2)={\\rm dnorm}(\\theta, \\mu_0, \\tau_0=\\sigma/\\sqrt{\\kappa_0})\\times p(\\sigma^2)\n",
    "$$"
   ]
  },
  {
   "cell_type": "markdown",
   "id": "03bf1852",
   "metadata": {},
   "source": [
    "对于$\\sigma^2$，我们需要能够对$(0,\\infty)$进行描述的分布，如Poisson采样模型中采用的gamma分布族便是满足此条件的选择之一。但是不幸地是，该分布族对于正态方差$\\sigma^2$并非共轭，但却是$1/\\sigma^2$的共轭。当采用此分布时，我们认为$\\sigma^2$具有inverse-gamma分布：\n",
    "\n",
    "$$\n",
    "\\begin{aligned}\n",
    "{\\rm precision} = 1/\\sigma^2 &\\sim {\\rm gamma}(a,b) \\\\\n",
    "{\\rm variance} = \\sigma^2 &\\sim \\text{inverse-gamma}(a,b)\n",
    "\\end{aligned}\n",
    "$$\n",
    "\n",
    "参数化后\n",
    "\n",
    "$$\n",
    "1/\\sigma^2 \\sim {\\rm gamma}(\\frac{v_0}{2}, \\frac{v_0}{2}\\sigma_0^2)\n",
    "$$"
   ]
  },
  {
   "cell_type": "markdown",
   "id": "2d583425",
   "metadata": {},
   "source": [
    "### 3.2 后验估计\n",
    "\n",
    "假设先验分布和采样模型满足：\n",
    "\n",
    "$$\n",
    "\\begin{aligned}\n",
    "1/\\sigma^2 &\\sim {\\rm gamma}(v_0/2, v_0\\sigma_0^2/2)\\\\\n",
    "\\theta|\\sigma^2 &\\sim {\\rm normal}(\\mu_0, \\sigma^2/\\kappa_0) \\\\\n",
    "Y_1,...,Y_n|\\theta, \\sigma^2 &\\sim \\text{ i.i.d. }{\\rm normal}(\\theta,\\sigma^2)\n",
    "\\end{aligned}\n",
    "$$\n",
    "\n",
    "则有\n",
    "\n",
    "$$\n",
    "p(\\theta, \\sigma^2|y_1, ...,y_n) = p(\\theta|\\sigma^2, y_1,...,y_n)p(\\sigma^2|y_1,...,y_n)\n",
    "$$"
   ]
  },
  {
   "cell_type": "markdown",
   "id": "653c3abc",
   "metadata": {},
   "source": [
    "根据之前第二节的推导\n",
    "\n",
    "$$\n",
    "\\color{red}{\\left\\{\\theta|\\sigma^2, y_1,...,y_n\\right\\}\\sim {\\rm normal}(\\mu_n, \\sigma^2/\\kappa_n)}\n",
    "$$\n",
    "\n",
    "其中\n",
    "\n",
    "$$\n",
    "\\color{red}{\\mu_n = \\frac{\\kappa_0}{\\kappa_0+n}\\mu_0 + \\frac{n}{\\kappa_0 + n}\\bar{y}}\n",
    "$$"
   ]
  },
  {
   "cell_type": "markdown",
   "id": "8b0b10ff",
   "metadata": {},
   "source": [
    "对于第二项$p(\\sigma^2|y_1,...,y_n)$:\n",
    "\n",
    "$$\n",
    "\\begin{aligned}\n",
    "p(\\sigma^2|y_1,...,y_n) & \\propto p(\\sigma^2)p(y_1,...,y_n|\\sigma^2) \\\\\n",
    "    & = p(\\sigma^2) \\int p(y_1,...,y_n|\\theta, \\sigma^2)p(\\theta|\\sigma^2)d\\theta\n",
    "\\end{aligned}\n",
    "$$\n",
    "\n",
    "最终经过微积分计算一番混战获得：\n",
    "\n",
    "$$\n",
    "\\begin{aligned}\n",
    "\\color{red}{\\left\\{ 1/\\sigma^2 | y_1,...,y_n \\right\\} \\sim {\\rm gamma}(\\nu_n/2, \\nu_n\\sigma_n^2/2)}\n",
    "\\end{aligned}\n",
    "$$\n",
    "\n",
    "其中\n",
    "\n",
    "$$\n",
    "\\begin{aligned}\n",
    "&\\color{red}{\\nu_n = \\nu_0 + n} \\\\ \n",
    "&\\color{red}{\\sigma_n^2 = \\frac{1}{\\nu_n}[\\nu_0\\sigma_0^2 + (n-1)s^2 + \\frac{\\kappa_0 n}{\\kappa_n}(\\bar{y}-\\mu_0)^2]}\n",
    "\\end{aligned}\n",
    "$$"
   ]
  },
  {
   "cell_type": "markdown",
   "id": "0b5db6fd",
   "metadata": {},
   "source": [
    "### 3.3 Monte-Carlo采样\n",
    "\n",
    "设计如下Monte-Carlo采样过程来对$\\theta$和$\\sigma^2$进行估计：\n",
    "\n",
    "$$\n",
    "\\begin{array}{cc}\n",
    "\\sigma^{2(1)} \\sim \\text{inverse gamma}(\\nu_n/2, \\sigma_n^2n_n/2)& &\\quad \\theta^{(1)} \\sim \\text{normal}(\\mu_n, \\sigma^{2(1)}/\\kappa_n) \\\\\n",
    "\\vdots&&\\quad \\vdots \\\\\n",
    "\\sigma^{2(S)} \\sim \\text{inverse gamma}(\\nu_n/2, \\sigma_n^2n_n/2)& &\\quad \\theta^{(S)} \\sim \\text{normal}(\\mu_n, \\sigma^{2(S)}/\\kappa_n)\n",
    "\\end{array}\n",
    "$$"
   ]
  },
  {
   "cell_type": "markdown",
   "id": "f41f0ba7",
   "metadata": {},
   "source": [
    "这样便获得了一系列的采样结果$\\left\\{(\\sigma^{2(1)},\\theta^{(1)}),...,(\\sigma^{2(S)},\\theta^{(S)})\\right\\}$，便于计算分布概率$p(\\theta, \\sigma^2|y_1,...,y_n)$。"
   ]
  },
  {
   "cell_type": "code",
   "execution_count": 16,
   "id": "fb793900",
   "metadata": {},
   "outputs": [
    {
     "data": {
      "image/png": "[encoded data removed]",
      "text/plain": [
       "plot without title"
      ]
     },
     "metadata": {
      "image/png": {
       "height": 420,
       "width": 420
      }
     },
     "output_type": "display_data"
    }
   ],
   "source": [
    "# 先验参数.\n",
    "mu_0 <- 1.9; k_0 <- 1  # 先验估计分布的大致范围和参数\n",
    "s2_0 <- 0.01; nu_0 <- 1\n",
    "\n",
    "# 样本数据.\n",
    "y <- c(1.64, 1.70, 1.72, 1.74, 1.82, 1.82, 1.82, 1.90, 2.08)\n",
    "n <- length(y); y_bar <- mean(y); s2 <- var(y)\n",
    "\n",
    "# 后验估计.\n",
    "k_n <- k_0 + n; nu_n <- nu_0 + n\n",
    "mu_n <- k_0 * mu_0 / k_n + n * y_bar / k_n\n",
    "s2_n <- (mu_0 * s2_0 + (n - 1) * s2 + k_0 * n * (y_bar - mu_0)^2 / k_n) / nu_n\n",
    "\n",
    "# MC采样.\n",
    "N_mc = 10000\n",
    "sigma2_post <- 1 / rgamma(N_mc, mu_n / 2, mu_n * s2_n / 2)\n",
    "theta_post <- rnorm(N_mc, mu_n, sqrt(sigma2_post / k_n))  # 注意开方\n",
    "\n",
    "plot(theta_post, sigma2_post, type=\"p\", xlim=c(1.6, 2.0),ylim=c(0, 0.07), cex=0.3)"
   ]
  },
  {
   "cell_type": "markdown",
   "id": "562adaad",
   "metadata": {},
   "source": []
  },
  {
   "cell_type": "markdown",
   "id": "07336c99",
   "metadata": {},
   "source": []
  },
  {
   "cell_type": "markdown",
   "id": "99a999d0",
   "metadata": {},
   "source": []
  },
  {
   "cell_type": "markdown",
   "id": "a9184585",
   "metadata": {},
   "source": []
  },
  {
   "cell_type": "markdown",
   "id": "a6fb371f",
   "metadata": {},
   "source": []
  },
  {
   "cell_type": "markdown",
   "id": "372f28c9",
   "metadata": {},
   "source": []
  },
  {
   "cell_type": "markdown",
   "id": "56ede47a",
   "metadata": {},
   "source": []
  }
 ],
 "metadata": {
  "kernelspec": {
   "display_name": "R",
   "language": "R",
   "name": "ir"
  },
  "language_info": {
   "codemirror_mode": "r",
   "file_extension": ".r",
   "mimetype": "text/x-r-source",
   "name": "R",
   "pygments_lexer": "r",
   "version": "4.1.0"
  }
 },
 "nbformat": 4,
 "nbformat_minor": 5
}
