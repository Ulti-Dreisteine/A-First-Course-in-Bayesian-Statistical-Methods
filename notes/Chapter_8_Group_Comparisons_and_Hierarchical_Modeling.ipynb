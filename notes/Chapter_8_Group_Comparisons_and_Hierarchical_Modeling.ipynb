{
 "cells": [
  {
   "cell_type": "markdown",
   "id": "1a9fdb0b-d20d-4192-9dd1-b685e1f0d8a5",
   "metadata": {},
   "source": [
    "# **第六章：Gibbs采样器与后验近似**\n",
    "Dreisteine, 2021.09.25"
   ]
  },
  {
   "cell_type": "markdown",
   "id": "b7b4fbff-65de-4181-9675-025b39903665",
   "metadata": {
    "slideshow": {
     "slide_type": "fragment"
    },
    "tags": []
   },
   "source": [
    "## **一、基于t检验比较两组独立样本均值**"
   ]
  },
  {
   "cell_type": "markdown",
   "id": "4aa8d2e9-3b1c-4c1a-8456-db9692e1b76d",
   "metadata": {},
   "source": [
    "两个学校学生考试成绩分数样本$x$："
   ]
  },
  {
   "cell_type": "code",
   "execution_count": 12,
   "id": "79cb0753-59d9-4218-936b-2713c63abb95",
   "metadata": {
    "slideshow": {
     "slide_type": "notes"
    },
    "tags": []
   },
   "outputs": [],
   "source": [
    "y_1 <- c(1.0, 2.0, 1.1, 2.1, 0.5, 1.9)\n",
    "y_2 <- c(0.5, 0.6, 7.0, 2.1, 3.3, 4.3, 2.0, 1.5, 2.1)"
   ]
  },
  {
   "cell_type": "markdown",
   "id": "d704e8cd-a20f-49f0-8e2e-8a6d0e9d55da",
   "metadata": {},
   "source": [
    "两组样本画图为："
   ]
  },
  {
   "cell_type": "code",
   "execution_count": 24,
   "id": "d51aef89-cd38-4f6d-8022-d9f4e0400d6b",
   "metadata": {},
   "outputs": [
    {
     "data": {
      "image/png": "[encoded data removed]",
      "text/plain": [
       "plot without title"
      ]
     },
     "metadata": {
      "image/png": {
       "height": 420,
       "width": 420
      }
     },
     "output_type": "display_data"
    }
   ],
   "source": [
    "library(ggplot2)\n",
    "df = data.frame(\n",
    "  label = c(rep('group_1', times = length(y_1)), rep('group_2', times = length(y_2))), \n",
    "  y = c(y_1, y_2)\n",
    "  )\n",
    "ggplot(data = df, aes(x = label, y = y)) + geom_boxplot() + geom_jitter() + theme(plot.margin = unit(c(1, 1, 1, 1),\"cm\"))"
   ]
  },
  {
   "cell_type": "markdown",
   "id": "cf0c77cd-0a5c-4251-a83a-822ecd4181e0",
   "metadata": {},
   "source": [
    "使用t对两独立样本进行检验："
   ]
  },
  {
   "cell_type": "code",
   "execution_count": 25,
   "id": "ba296e6d-5b11-4149-a7ae-8b75dd0e1a44",
   "metadata": {},
   "outputs": [
    {
     "name": "stdout",
     "output_type": "stream",
     "text": [
      "[1] 0.140333\n"
     ]
    }
   ],
   "source": [
    "results <- t.test(y_1, y_2, alternative = \"two.sided\", var.equal = FALSE)\n",
    "t_score <- results[1]$statistic\n",
    "p_value <- results[3]$p.value\n",
    "\n",
    "print(p_value)"
   ]
  },
  {
   "cell_type": "markdown",
   "id": "80e0a51f-0354-40e6-9de0-ad586a013ec1",
   "metadata": {},
   "source": [
    "可见p值为0.14 > 0.05, 因此t检验认为**两组样本来自同一分布**。  \n",
    "t检验认为:  \n",
    "* 如果$p<0.05$:  \n",
    "    $\\theta_1 \\neq \\theta_2$, $\\hat \\theta_1 = \\bar y_1$, $\\hat \\theta_2 = \\bar y_2$;\n",
    "* 如果$p>0.05$:  \n",
    "    $\\theta_1 = \\theta_2$, $\\hat \\theta_1 = \\hat \\theta_2 = \\frac{\\sum_i y_{i,1} + \\sum_j y_{j, 2}}{n_1 + n_2}$"
   ]
  },
  {
   "cell_type": "markdown",
   "id": "9cd57837-f089-4d11-9475-97b87bc0b70a",
   "metadata": {},
   "source": [
    "对于参数$\\theta_1$, 以上基于t检验的估计可以整理为:\n",
    "\n",
    "$$\n",
    "\\hat \\theta_1 = w \\bar y_1 + (1 - w) \\bar y_2\n",
    "$$\n",
    "\n",
    "其中$w=1$如果$p<0.05$, 否则$w=n_1 / (n_1 + n_2)$。可见权重$w$不是连续的。"
   ]
  },
  {
   "cell_type": "markdown",
   "id": "e40e55b3-c988-46c9-b6c9-f6706872683b",
   "metadata": {},
   "source": [
    "## **二、基于贝叶斯的参数估计**"
   ]
  },
  {
   "cell_type": "markdown",
   "id": "16c05092-9ce6-4755-93b0-d1e15cb3f5f3",
   "metadata": {},
   "source": [
    "在没有观测到任何样本时，我们假设以上两组样本分布分别满足：\n",
    "\n",
    "$$\n",
    "Y_{i,1} = \\mu + \\delta + \\epsilon_{i, 1} \\\\\n",
    "Y_{j,2} = \\mu - \\delta + \\epsilon_{j, 2} \\\\\n",
    "\\epsilon_{i, 1} \\sim \\text{i.i.d. normal}(0, \\sigma^2) \\\\\n",
    "\\epsilon_{i, 2} \\sim \\text{i.i.d. normal}(0, \\sigma^2) \\\\\n",
    "$$"
   ]
  },
  {
   "cell_type": "markdown",
   "id": "9e0eba15-fc6b-4478-9d6a-cf34140584d1",
   "metadata": {},
   "source": [
    "其中，\n",
    "\n",
    "$$\n",
    "\\mu \\sim \\text{normal}(\\mu_0, \\gamma_0^2) \\\\\n",
    "\\delta \\sim \\text{normal}(\\sigma_0, \\tau_0^2) \\\\\n",
    "\\sigma^2 \\sim \\text{inverse-gamma}(\\nu_0/2, \\nu_0\\sigma_0^2/2)\n",
    "$$"
   ]
  },
  {
   "cell_type": "markdown",
   "id": "95a4bc29-1763-4945-86a7-02ecb0568daf",
   "metadata": {},
   "source": [
    "三组参数的先验分布为：\n",
    "\n",
    "$$\n",
    "p(\\mu, \\delta, \\sigma^2) = p(u) \\times p(\\delta) \\times p(\\sigma^2)\n",
    "$$"
   ]
  },
  {
   "cell_type": "markdown",
   "id": "e7879607-189f-4eef-8690-b1ee5556ea53",
   "metadata": {},
   "source": [
    "现在已经观测到了两组样本$Y_1$和$Y_2$, 希望通过样本和先验分布求得各参数的后验分布。"
   ]
  },
  {
   "cell_type": "markdown",
   "id": "732a8187-2dd5-4ce9-9861-b4f5369d279e",
   "metadata": {},
   "source": [
    "$$\n",
    "\\{\\mu|Y_1, Y_2, \\delta, \\sigma^2\\} \\sim \n",
    "$$"
   ]
  },
  {
   "cell_type": "code",
   "execution_count": null,
   "id": "0bae949c-91a7-4d77-b59a-16621abf6457",
   "metadata": {},
   "outputs": [],
   "source": []
  },
  {
   "cell_type": "code",
   "execution_count": null,
   "id": "f996d626-3071-4221-97c2-8f28866eeea0",
   "metadata": {},
   "outputs": [],
   "source": []
  }
 ],
 "metadata": {
  "kernelspec": {
   "display_name": "R",
   "language": "R",
   "name": "ir"
  },
  "language_info": {
   "codemirror_mode": "r",
   "file_extension": ".r",
   "mimetype": "text/x-r-source",
   "name": "R",
   "pygments_lexer": "r",
   "version": "4.1.1"
  }
 },
 "nbformat": 4,
 "nbformat_minor": 5
}
