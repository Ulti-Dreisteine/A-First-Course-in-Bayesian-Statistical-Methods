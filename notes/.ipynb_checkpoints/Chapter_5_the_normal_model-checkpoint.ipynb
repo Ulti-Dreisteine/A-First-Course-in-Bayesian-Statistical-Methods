{
 "cells": [
  {
   "cell_type": "markdown",
   "id": "91a797a8",
   "metadata": {},
   "source": [
    "# 第五章：正态模型\n",
    "Dreisteine, 2021.07.30"
   ]
  },
  {
   "cell_type": "markdown",
   "id": "b97a10ef",
   "metadata": {},
   "source": [
    "---"
   ]
  },
  {
   "cell_type": "markdown",
   "id": "1b2135ca",
   "metadata": {},
   "source": [
    "## 一、正态模型\n",
    "\n",
    "连续随机变量$Y$的概率密度满足:\n",
    "\n",
    "$$\n",
    "p(y|\\theta, \\sigma^2) = \\frac{1}{\\sqrt{2\\pi\\sigma^2}}e^{-\\frac{1}{2}\\left(\\frac{y-\\theta}{2}\\right)^2},\\quad -\\infty< y< \\infty\n",
    "$$\n",
    "\n",
    "正态分布满足：\n",
    "* 对称性\n",
    "* 左右1.96个标准差以内满足95%置信度\n",
    "* 若$X\\sim {\\rm normal}(\\mu, \\tau^2),Y\\sim \\rm{normal}(\\theta, \\sigma^2)$，且**X和Y相互独立**，则$aX+bY \\sim \\rm{normal}(a\\mu+b\\theta, a^2\\tau^2+b^2\\sigma^2)$\n",
    "* R里面的dnorm，rnorm，pnorm，qnorm这些函数都采用$\\sigma$而非$\\sigma^2$作为输入参数，注意不要混淆"
   ]
  },
  {
   "cell_type": "markdown",
   "id": "f7754beb",
   "metadata": {},
   "source": [
    "### <u>算例1：妇女体重分布</u>"
   ]
  },
  {
   "cell_type": "markdown",
   "id": "b68cd074",
   "metadata": {},
   "source": [
    "> 妇女体重($N=1375, \\bar{y}=63.75, s=2.62$)近似取决于多种因素的线性加和：\n",
    ">\n",
    "> $$\n",
    "y = a + b\\times\\rm{gene} + c\\times\\rm{diet} + d\\times\\rm{disease} + \\cdots\n",
    "$$\n",
    ">\n",
    "> **中心极限定理**告诉我们，样本$y_1,...,y_n$的经验分布将会近似于正态分布，因此正态模型能够作为合适的数据采样模型。"
   ]
  },
  {
   "cell_type": "code",
   "execution_count": 5,
   "id": "006c4bf8",
   "metadata": {},
   "outputs": [
    {
     "data": {
      "image/png": "[encoded data removed]",
      "text/plain": [
       "Plot with title \"Histogram of y\""
      ]
     },
     "metadata": {
      "image/png": {
       "height": 420,
       "width": 420
      }
     },
     "output_type": "display_data"
    }
   ],
   "source": [
    "n <- 1375\n",
    "y_avg <- 63.75; s <- 2.62\n",
    "\n",
    "y <- rnorm(n, y_avg, s)\n",
    "hist(y)"
   ]
  },
  {
   "cell_type": "markdown",
   "id": "fc545659",
   "metadata": {},
   "source": [
    "## 二、基于方差的均值推理"
   ]
  },
  {
   "cell_type": "markdown",
   "id": "38c57bac",
   "metadata": {},
   "source": [
    "假设我们的采样模型为$\\{Y_1,...,Y_n|\\theta, \\sigma^2\\}\\sim \\text{ i.i.d. } \\rm{normal}(\\theta, \\sigma^2)$，那么样本的联合分布密度为：\n",
    "\n",
    "$$\n",
    "\\begin{aligned}\n",
    "p\\left(y_1,...,y_n|\\theta, \\sigma^2\\right) &= \\prod_{i=1}^n p(y_i|\\theta, \\sigma^2) \\\\\n",
    " &= \\prod_{i=1}^n \\frac{1}{\\sqrt{2\\pi\\sigma^2}}e^{-\\frac{1}{2}\\left(\\frac{y_i -\\theta}{\\sigma}\\right)^2} \\\\\n",
    " &= (2\\pi\\sigma^2)^{-n/2}\\exp{\\left\\{-\\frac{1}{2}\\sum{\\left(\\frac{y_i-\\theta}{\\sigma}\\right)^2}\\right\\}}\n",
    "\\end{aligned}\n",
    "$$\n",
    "\n",
    "其中\n",
    "\n",
    "$$\n",
    "\\sum_{i=1}^{n}{\\left(\\frac{y_i-\\theta}{\\sigma}\\right)^2}=\\frac{1}{\\sigma^2}\\sum{y_i^2}-2\\frac{\\theta}{\\sigma^2}\\sum{y_i}+n\\frac{\\theta^2}{\\sigma^2}\n",
    "$$\n",
    "\n",
    "这说明$p\\left(y_1,...,y_n|\\theta, \\sigma^2\\right)$依赖于$y_1,...,y_n$，并且$\\left\\{\\sum{y_i^2},\\sum{y_i}\\right\\}$构成了关于$p\\left(y_1,...,y_n|\\theta, \\sigma^2\\right)$的二维**充分统计量**。更进一步地，当获得了样本的均值和方差信息$\\left\\{\\bar{y}, s\\right\\}$后，也就确定了$p\\left(y_1,...,y_n|\\theta, \\sigma^2\\right)$，因此$\\left\\{\\bar{y}, s\\right\\}$也是关于$\\left\\{\\sum{y_i^2},\\sum{y_i}\\right\\}$的一组充分统计量。\n",
    "\n",
    "正态模型是一个双参数模型，对于其中参数$\\theta,\\sigma^2$的推断可被分解为两个单参数推断问题。例如已知方差来推断均值，根据贝叶斯公式有：\n",
    "\n",
    "$$\n",
    "p(\\theta|y_1,...,y_n,\\sigma^2) \\times p(y_1,...,y_n|\\sigma^2) = p(\\theta|\\sigma^2) \\times p(y_1, ...,y_n|\\theta, \\sigma^2)\n",
    "$$\n",
    "\n",
    "那么\n",
    "\n",
    "$$\n",
    "p(\\theta|y_1,...,y_n,\\sigma^2) = \\frac{p(\\theta|\\sigma^2) \\times p(y_1, ...,y_n|\\theta, \\sigma^2)}{p(y_1,...,y_n|\\sigma^2)}\n",
    "$$\n",
    "\n",
    "其中分母$p(y_1,...,y_n|\\sigma^2)$与待估计参数$\\theta$无关，因此\n",
    "\n",
    "$$\n",
    "\\begin{aligned}\n",
    "p(\\theta|y_1,...,y_n,\\sigma^2) & \\propto p(\\theta|\\sigma^2) \\times p(y_1, ...,y_n|\\theta, \\sigma^2) \\\\\n",
    "    & \\propto p(\\theta|\\sigma^2) \\times e^{-\\frac{1}{2\\sigma^2}\\sum{(y_i-\\theta)^2}} \\\\\n",
    "    & \\propto p(\\theta|\\sigma^2) \\times e^{c_1(\\theta - c_2)^2}\n",
    "\\end{aligned}\n",
    "$$"
   ]
  },
  {
   "cell_type": "markdown",
   "id": "81668ea8",
   "metadata": {},
   "source": [
    "根据Chapter 3，若后验分布与采样分布属于同一类型，那么先验分布也是共轭的。从上式可以看出，如果先验分布$p(\\theta|\\sigma^2)$是共轭的，那么必然包含如$e^{c_1(\\theta - c_2)^2}$的二次项。在实数域$\\mathbb R$上最简单的此种类型分布便是正态分布。如果$p(\\theta|\\sigma^2)$为正态分布，样本$y_1,...,y_n$为从$\\rm{normal}(\\theta, \\sigma^2)$分布中独立采样的样本，那么$p(\\theta|y_1,...,y_n,\\sigma^2)$也是正态分布。具体推导如下："
   ]
  },
  {
   "cell_type": "markdown",
   "id": "f7d489e6",
   "metadata": {},
   "source": [
    "$$\n",
    "\\begin{aligned}\n",
    "p(\\theta|y_1,...,y_n,\\sigma^2) & \\propto p(\\theta|\\sigma^2) \\times p(y_1, ...,y_n|\\theta, \\sigma^2) \\\\\n",
    "    & \\propto p(\\theta|\\sigma^2, y_1, ...,y_n) \\times p(y_1, ...,y_n|\\theta, \\sigma^2) \\\\\n",
    "    & \\propto \\exp{\\left\\{-\\frac{1}{2\\tau_0^2}(\\theta - \\mu_0)^2\\right\\}} \\times \\exp{\\left\\{\\frac{-1}{2\\sigma^2}\\sum_i{(y_i - \\theta)^2} \\right\\}} \\\\\n",
    "    & \\propto \\exp{\\left\\{-\\frac{1}{2}(a\\theta^2-2b\\theta) \\right\\}} \\\\\n",
    "    & \\propto \\exp{\\left\\{-\\frac{1}{2}a(\\theta - b/2)^2 \\right\\}} \\\\\n",
    "    & \\propto \\exp{\\left\\{-\\frac{1}{2}\\left(\\frac{\\theta - b/2}{1/\\sqrt{a}}\\right) \\right\\}} \\\\\n",
    "\\end{aligned}\n",
    "$$\n",
    "\n",
    "正是正态分布类型，其中$a=\\frac{1}{\\tau_0^2}, b=\\frac{\\mu_0}{\\tau_0^2} + \\frac{\\sum_i{y_i}}{\\sigma^2}, c = \\left[\\mu_0,\\tau_0^2,y_1,...,y_n \\right]$。"
   ]
  },
  {
   "cell_type": "markdown",
   "id": "364c2835",
   "metadata": {},
   "source": []
  },
  {
   "cell_type": "markdown",
   "id": "38565cfa",
   "metadata": {},
   "source": []
  },
  {
   "cell_type": "markdown",
   "id": "111e156e",
   "metadata": {},
   "source": []
  },
  {
   "cell_type": "markdown",
   "id": "f6c393d9",
   "metadata": {},
   "source": []
  },
  {
   "cell_type": "markdown",
   "id": "1bd74e40",
   "metadata": {},
   "source": []
  },
  {
   "cell_type": "markdown",
   "id": "aa56318f",
   "metadata": {},
   "source": []
  },
  {
   "cell_type": "markdown",
   "id": "027e5e7b",
   "metadata": {},
   "source": []
  },
  {
   "cell_type": "markdown",
   "id": "1551f29e",
   "metadata": {},
   "source": []
  }
 ],
 "metadata": {
  "kernelspec": {
   "display_name": "R",
   "language": "R",
   "name": "ir"
  },
  "language_info": {
   "codemirror_mode": "r",
   "file_extension": ".r",
   "mimetype": "text/x-r-source",
   "name": "R",
   "pygments_lexer": "r",
   "version": "4.1.0"
  }
 },
 "nbformat": 4,
 "nbformat_minor": 5
}
