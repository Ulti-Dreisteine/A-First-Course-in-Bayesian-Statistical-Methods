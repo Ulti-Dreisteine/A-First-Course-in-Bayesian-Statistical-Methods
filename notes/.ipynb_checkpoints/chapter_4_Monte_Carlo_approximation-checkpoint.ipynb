{
 "cells": [
  {
   "cell_type": "markdown",
   "id": "85a8d385",
   "metadata": {},
   "source": [
    "# Monte-Carlo随机采样方法"
   ]
  },
  {
   "cell_type": "markdown",
   "id": "24255146",
   "metadata": {},
   "source": [
    "Dreisteine, 2021.07.28"
   ]
  },
  {
   "cell_type": "markdown",
   "id": "1ea2d6c1",
   "metadata": {},
   "source": [
    "---"
   ]
  },
  {
   "cell_type": "markdown",
   "id": "20f2a308",
   "metadata": {},
   "source": [
    "## 一、问题提出"
   ]
  },
  {
   "cell_type": "markdown",
   "id": "e10b30c2",
   "metadata": {},
   "source": [
    "根据样本对统计模型参数进行**后验估计**："
   ]
  },
  {
   "cell_type": "markdown",
   "id": "99982b7b",
   "metadata": {},
   "source": [
    "$$\n",
    "\\begin{aligned}\n",
    "    & {\\rm Pr}\\left(\\theta_1 > \\theta_2 | y_{1,1},...,y_{n_1,1},y_{2,1},...,y_{n_2, 1}\\right) \\\\\n",
    "    & = \\int_{0}^{\\infty} \\int_{0}^{\\theta_1} p\\left(\\theta_1, \\theta_2 | y_{1,1},...,y_{n_1,1},y_{2,1},...,y_{n_2, 1} \\right) d \\theta_2 d\\theta_1 \\\\\n",
    "\\end{aligned}\n",
    "$$"
   ]
  },
  {
   "cell_type": "markdown",
   "id": "40d1ddc3",
   "metadata": {},
   "source": [
    "对于上述式子，既可以直接通过微积分求解，也可以通过数值求解算法包求解。但是，这些方法严重依赖于具体的先验分布、模型细节和后验概率表述，**通用性差**。因此，我们将使用Monte-Carlo随机采样方法进行计算，该方法不依赖具体微积分和数值分析知识。"
   ]
  },
  {
   "cell_type": "markdown",
   "id": "1db7de06",
   "metadata": {},
   "source": [
    "## 二、Monte-Carlo采样方法"
   ]
  },
  {
   "cell_type": "markdown",
   "id": "d7ffac8b",
   "metadata": {},
   "source": [
    "假定我们能够根据参数$\\theta$的后验分布（已知），随机独立地采集$S$个参数值样本："
   ]
  },
  {
   "cell_type": "markdown",
   "id": "b34251f8",
   "metadata": {},
   "source": [
    "$$\n",
    "\\theta^{(1)}, ..., \\theta^{(S)} \\sim \\text{i.i.d. } p\\left(\\theta | y_{1},...,y_{n} \\right)\n",
    "$$"
   ]
  },
  {
   "cell_type": "markdown",
   "id": "65e79477",
   "metadata": {},
   "source": [
    "那么样本$\\left\\{ \\theta^{(1)}, ..., \\theta^{(S)} \\right\\}$的经验分布将随着$S$的增加而趋近于$p\\left(\\theta | y_{1},...,y_{n} \\right)$,即为Monte-Carlo近似。"
   ]
  },
  {
   "cell_type": "markdown",
   "id": "b2c28207",
   "metadata": {},
   "source": [
    "根据**大数定律**，令$g(\\theta)$为任意形式的函数，若样本$\\theta^{(1)}, ..., \\theta^{(S)} \\sim \\text{i.i.d. } p\\left(\\theta | y_{1},...,y_{n} \\right)$，则有："
   ]
  },
  {
   "cell_type": "markdown",
   "id": "af6e6a48",
   "metadata": {},
   "source": [
    "$$\n",
    "\\frac{1}{S}\\sum_{s=1}^{S}g(\\theta^{(s)}) \\rightarrow {\\rm E}[g(\\theta)]=\\int g(\\theta) p\\left(\\theta | y_{1},...,y_{n} \\right)d\\theta \\text{ as } S \\rightarrow \\infty\n",
    "$$"
   ]
  },
  {
   "cell_type": "markdown",
   "id": "855663d7",
   "metadata": {},
   "source": [
    "那么有：\n",
    "* 样本均值收敛：$\\bar \\theta = \\sum_{s=1}^{S}g(\\theta^{(s)})/S \\rightarrow {\\rm E}[\\theta | y_1, ..., y_n]$\n",
    "* 样本方差收敛至${\\rm Var}[\\theta | y_1, ..., y_n]$\n",
    "* 概率收敛\n",
    "* 样本$\\{\\theta^{(1)},...,\\theta^{(S)}\\}$的经验分布 $\\rightarrow p(\\theta | y_1, ..., y_n)$\n",
    "* 中位数收敛\n",
    "* 分位数收敛\n",
    "\n",
    "一句话概括：根据分布规则进行一系列采样，当样本量$S$充分大，样本集的统计性质将收敛于对于分布性质"
   ]
  },
  {
   "cell_type": "markdown",
   "id": "7e68a040",
   "metadata": {},
   "source": [
    "### 算例1：gamma分布参数估计\n",
    "\n",
    "> 首先，设定gamma分布并进行采样："
   ]
  },
  {
   "cell_type": "code",
   "execution_count": 18,
   "id": "c68d1201",
   "metadata": {},
   "outputs": [],
   "source": [
    "# Gamma分布的参数.\n",
    "a <- 2; b <- 1\n",
    "sm <- 66; n <- 44\n",
    "\n",
    "# 按照不同样本量对Gamma分布进行采样.\n",
    "theta_mc10 <- rgamma(10, a + sm, b + n)\n",
    "theta_mc100 <- rgamma(100, a + sm, b + n)\n",
    "theta_mc1000000 <- rgamma(1000000, a + sm, b + n)"
   ]
  },
  {
   "cell_type": "markdown",
   "id": "c864c308",
   "metadata": {},
   "source": [
    "> 比较不同样本量下样本均值与理论均值（=1.5）"
   ]
  },
  {
   "cell_type": "code",
   "execution_count": 16,
   "id": "b0289231",
   "metadata": {
    "scrolled": true
   },
   "outputs": [
    {
     "data": {
      "text/html": [
       "1.55423118559546"
      ],
      "text/latex": [
       "1.55423118559546"
      ],
      "text/markdown": [
       "1.55423118559546"
      ],
      "text/plain": [
       "[1] 1.554231"
      ]
     },
     "metadata": {},
     "output_type": "display_data"
    },
    {
     "data": {
      "text/html": [
       "1.54300837980894"
      ],
      "text/latex": [
       "1.54300837980894"
      ],
      "text/markdown": [
       "1.54300837980894"
      ],
      "text/plain": [
       "[1] 1.543008"
      ]
     },
     "metadata": {},
     "output_type": "display_data"
    },
    {
     "data": {
      "text/html": [
       "1.51091520148702"
      ],
      "text/latex": [
       "1.51091520148702"
      ],
      "text/markdown": [
       "1.51091520148702"
      ],
      "text/plain": [
       "[1] 1.510915"
      ]
     },
     "metadata": {},
     "output_type": "display_data"
    }
   ],
   "source": [
    "mean(theta_mc10)\n",
    "mean(theta_mc100)\n",
    "mean(theta_mc1000000)"
   ]
  },
  {
   "cell_type": "markdown",
   "id": "691d46b1",
   "metadata": {},
   "source": [
    "> 从结果可见，随着样本量$S$的增加，样本均值逼近分布的均值。"
   ]
  },
  {
   "cell_type": "markdown",
   "id": "a72333c1",
   "metadata": {},
   "source": [
    "## 三、对任意函数的后验推理"
   ]
  },
  {
   "cell_type": "markdown",
   "id": "03ac3729",
   "metadata": {},
   "source": [
    "假设我们对某些可计算的函数$g(\\theta)$的后验分布感兴趣，比如在二项分布模型中，我们对如下的对数几率更感兴趣："
   ]
  },
  {
   "cell_type": "markdown",
   "id": "8fb39ecd",
   "metadata": {},
   "source": [
    "$$\n",
    "\\log odds(\\theta) = \\log \\frac{\\theta}{1-\\theta} =\\gamma\n",
    "$$"
   ]
  },
  {
   "cell_type": "markdown",
   "id": "d41f2d80",
   "metadata": {},
   "source": [
    "大数定律告诉我们，如果我们根据$\\theta$的后验分布生成了一系列样本$\\{\\theta^{(1)}, \\theta^{(2)}, ...\\}$，那么："
   ]
  },
  {
   "cell_type": "markdown",
   "id": "fc0b9dfc",
   "metadata": {},
   "source": [
    "$$\n",
    "{\\rm mean} \\left(\\log \\frac{\\theta^{(s)}}{1-\\theta^{(s)}}\\right) \\rightarrow {\\rm E}\\left[\\log \\frac{\\theta^{(s)}}{1-\\theta^{(s)}} | y_1, ..., y_n\\right]\n",
    "$$"
   ]
  },
  {
   "cell_type": "markdown",
   "id": "2fa0cb86",
   "metadata": {},
   "source": [
    "而我们可能也对$\\gamma$的其他后验分布性质感兴趣，这样一来可以通过Monte-Carlo方法进行如下独立并行采样计算："
   ]
  },
  {
   "cell_type": "markdown",
   "id": "3d6ed869",
   "metadata": {},
   "source": [
    "$$\n",
    "\\left.\n",
    " \\begin{array}{cc}\n",
    " \\text{sample } \\theta^{(1)} \\sim p(\\theta | y_1,...,y_n), \\text{compute } \\gamma^{(1)}=g\\left(\\theta^{(1)}\\right) \\\\\n",
    " \\text{sample } \\theta^{(2)} \\sim p(\\theta | y_1,...,y_n), \\text{compute } \\gamma^{(2)}=g\\left(\\theta^{(1)}\\right) \\\\\n",
    " \\vdots \\\\\n",
    " \\text{sample } \\theta^{(S)} \\sim p(\\theta | y_1,...,y_n), \\text{compute } \\gamma^{(S)}=g\\left(\\theta^{(1)}\\right) \\\\\n",
    " \\end{array}\n",
    "\\right\\} \\text{independently}\n",
    "$$"
   ]
  },
  {
   "cell_type": "markdown",
   "id": "7e83d778",
   "metadata": {},
   "source": [
    "当采样数$S \\rightarrow \\infty$，对于$\\gamma$有：\n",
    "* 均值收敛\n",
    "* 方差收敛\n",
    "* 分布收敛"
   ]
  },
  {
   "cell_type": "markdown",
   "id": "96f1af66",
   "metadata": {},
   "source": [
    "### 算例2：Functions of Two Parameters"
   ]
  },
  {
   "cell_type": "markdown",
   "id": "3bb87282",
   "metadata": {},
   "source": [
    "> 基于Chaptet 3中的出生率Birthrate案例，两个教育水平群体的后验分布为："
   ]
  },
  {
   "cell_type": "markdown",
   "id": "201d1eb8",
   "metadata": {},
   "source": [
    "$$\n",
    "\\begin{array}{}\n",
    "    & \\{\\theta_1|y_{1,1}, ..., y_{n_1, 1}\\} \\sim {\\rm gamma}(219, 112) \\text{ (women without bachelor's degrees)} \\\\\n",
    "    & \\{\\theta_2|y_{1,2}, ..., y_{n_2, 2}\\} \\sim {\\rm gamma}(68, 45) \\text{ (women with bachelor's degrees)} \\\\\n",
    "\\end{array}\n",
    "$$"
   ]
  },
  {
   "cell_type": "markdown",
   "id": "1257823a",
   "metadata": {},
   "source": [
    "> 对于此例，我们对概率${\\rm Pr}(\\theta_1 > \\theta_2|Y_{1,1}=y_{1,1},...,Y_{n_2,2}=y_{n_2,2})$或$\\theta_1/\\theta_2$的分布感兴趣，可以通过Monte-Carlo方法来实现:"
   ]
  },
  {
   "cell_type": "markdown",
   "id": "418d73e9",
   "metadata": {},
   "source": [
    "$$\n",
    "\\begin{aligned}\n",
    "&\\text{sample } \\theta_1^{(1)} \\sim p(\\theta_1|\\sum_i Y_{i, 1}=217), \\text{ sample }\\theta_2^{(1)} \\sim p(\\theta_2|\\sum_i Y_{i, 2}=66)\\\\\n",
    "&\\text{sample } \\theta_1^{(2)} \\sim p(\\theta_1|\\sum_i Y_{i, 1}=217), \\text{ sample }\\theta_2^{(2)} \\sim p(\\theta_2|\\sum_i Y_{i, 2}=66)\\\\\n",
    "&\\vdots \\\\\n",
    "&\\text{sample } \\theta_1^{(S)} \\sim p(\\theta_1|\\sum_i Y_{i, 1}=217), \\text{ sample }\\theta_2^{(S)} \\sim p(\\theta_2|\\sum_i Y_{i, 2}=66)\\\\\n",
    "\\end{aligned}\n",
    "$$"
   ]
  },
  {
   "cell_type": "markdown",
   "id": "38b0ab61",
   "metadata": {},
   "source": [
    "> 在Chapter 3中已经提到了对于beta分布$\\sum_{i}Y_i$是$\\theta$的充分统计量。这样通过Monte-Carlo采样我们便获得了一系列的包含了$S$组$\\theta_1$和$\\theta_2$后验分布样本的采样序列$\\left\\{(\\theta_1^{(1)}, \\theta_2^{(1)}),...,(\\theta_1^{(S)}, \\theta_2^{(S)})\\right\\}$，然后计算${\\rm Pr}\\left(\\theta_1 > \\theta_2|\\sum_{i=1}^{111}Y_{i,1}=217, \\sum_{j=1}^{44}Y_{j,2}=66\\right)$："
   ]
  },
  {
   "cell_type": "markdown",
   "id": "474cbf1a",
   "metadata": {},
   "source": [
    "$$\n",
    "{\\rm Pr}\\left(\\theta_1 > \\theta_2|\\sum_{i=1}^{111}Y_{i,1}=217, \\sum_{j=1}^{44}Y_{j,2}=66\\right) \\approx \\frac{1}{S}\\sum_{s=1}^{S}1(\\theta_1 > \\theta_2)\n",
    "$$"
   ]
  },
  {
   "cell_type": "markdown",
   "id": "79c77d77",
   "metadata": {},
   "source": [
    "> 对应的R代码如下："
   ]
  },
  {
   "cell_type": "code",
   "execution_count": 6,
   "id": "0eaf8db5",
   "metadata": {},
   "outputs": [
    {
     "data": {
      "text/html": [
       "0.9749"
      ],
      "text/latex": [
       "0.9749"
      ],
      "text/markdown": [
       "0.9749"
      ],
      "text/plain": [
       "[1] 0.9749"
      ]
     },
     "metadata": {},
     "output_type": "display_data"
    },
    {
     "data": {
      "text/html": [
       "1.31507074499194"
      ],
      "text/latex": [
       "1.31507074499194"
      ],
      "text/markdown": [
       "1.31507074499194"
      ],
      "text/plain": [
       "[1] 1.315071"
      ]
     },
     "metadata": {},
     "output_type": "display_data"
    }
   ],
   "source": [
    "# 分布参数.\n",
    "a <- 2; b<- 1  # 先验参数\n",
    "sm1 <- 217; n1 <- 111  # 后验参数\n",
    "sm2 <- 66; n2 <- 44    # 后验参数\n",
    "\n",
    "# 后验采样.\n",
    "N_mc <- 10000\n",
    "theta_1_mc <- rgamma(N_mc, a + sm1, b + n1)\n",
    "theta_2_mc <- rgamma(N_mc, a + sm2, b + n2)\n",
    "\n",
    "# 获得其他相关分布的概率.\n",
    "mean(theta_1_mc > theta_2_mc)  # theta_1 > theta_2\n",
    "mean(theta_1_mc / theta_2_mc)  # theta_1 / theta_2"
   ]
  }
 ],
 "metadata": {
  "kernelspec": {
   "display_name": "R",
   "language": "R",
   "name": "ir"
  },
  "language_info": {
   "codemirror_mode": "r",
   "file_extension": ".r",
   "mimetype": "text/x-r-source",
   "name": "R",
   "pygments_lexer": "r",
   "version": "4.1.0"
  }
 },
 "nbformat": 4,
 "nbformat_minor": 5
}
